{
 "cells": [
  {
   "cell_type": "code",
   "execution_count": 1,
   "metadata": {},
   "outputs": [],
   "source": [
    "import os \n",
    "import pandas as pd \n",
    "import dataPrep as dP \n",
    "import matplotlib.pyplot as plt \n",
    "import seaborn as sns"
   ]
  },
  {
   "cell_type": "code",
   "execution_count": 2,
   "metadata": {},
   "outputs": [
    {
     "name": "stdout",
     "output_type": "stream",
     "text": [
      "<class 'pandas.core.frame.DataFrame'>\n",
      "RangeIndex: 6362620 entries, 0 to 6362619\n",
      "Data columns (total 11 columns):\n",
      " #   Column          Dtype  \n",
      "---  ------          -----  \n",
      " 0   step            int64  \n",
      " 1   type            object \n",
      " 2   amount          float64\n",
      " 3   nameOrig        object \n",
      " 4   oldbalanceOrg   float64\n",
      " 5   newbalanceOrig  float64\n",
      " 6   nameDest        object \n",
      " 7   oldbalanceDest  float64\n",
      " 8   newbalanceDest  float64\n",
      " 9   isFraud         int64  \n",
      " 10  isFlaggedFraud  int64  \n",
      "dtypes: float64(5), int64(3), object(3)\n",
      "memory usage: 534.0+ MB\n"
     ]
    },
    {
     "data": {
      "image/png": "[encoded data removed]",
      "text/plain": [
       "<Figure size 3600x3600 with 5 Axes>"
      ]
     },
     "metadata": {
      "needs_background": "light"
     },
     "output_type": "display_data"
    }
   ],
   "source": [
    "#Get the data and visualize them prior to transformation\n",
    "x_train,targetsActual,targetsFlagged = dP.getData()\n",
    "#print(x_train.info())\n",
    "plt.figure(1,figsize = (50,50))\n",
    "i = 1; nrows = 20; ncols = 20\n",
    "for col in x_train.columns:\n",
    "    if col in ['step','nameOrig','nameDest','type']:\n",
    "        continue\n",
    "    plt.subplot(nrows,ncols,i)\n",
    "    x_train[col].hist(bins = 50)\n",
    "    plt.xlabel(col)\n",
    "    i += 1\n",
    "plt.tight_layout()\n",
    "plt.show()    "
   ]
  },
  {
   "cell_type": "code",
   "execution_count": 3,
   "metadata": {},
   "outputs": [
    {
     "name": "stdout",
     "output_type": "stream",
     "text": [
      "               step        amount  oldbalanceOrg  newbalanceOrig  \\\n",
      "count  6.362620e+06  6.362620e+06   6.362620e+06    6.362620e+06   \n",
      "mean   2.433972e+02  1.798619e+05   8.338831e+05    8.551137e+05   \n",
      "std    1.423320e+02  6.038582e+05   2.888243e+06    2.924049e+06   \n",
      "min    1.000000e+00  0.000000e+00   0.000000e+00    0.000000e+00   \n",
      "25%    1.560000e+02  1.338957e+04   0.000000e+00    0.000000e+00   \n",
      "50%    2.390000e+02  7.487194e+04   1.420800e+04    0.000000e+00   \n",
      "75%    3.350000e+02  2.087215e+05   1.073152e+05    1.442584e+05   \n",
      "max    7.430000e+02  9.244552e+07   5.958504e+07    4.958504e+07   \n",
      "\n",
      "       oldbalanceDest  newbalanceDest     Logamount  LogoldbalanceOrg  \\\n",
      "count    6.362620e+06    6.362620e+06  6.362620e+06      6.362620e+06   \n",
      "mean     1.100702e+06    1.224996e+06  1.084087e+01      7.414574e+00   \n",
      "std      3.399180e+06    3.674129e+06  1.814509e+00      5.669756e+00   \n",
      "min      0.000000e+00    0.000000e+00  0.000000e+00      0.000000e+00   \n",
      "25%      0.000000e+00    0.000000e+00  9.502306e+00      0.000000e+00   \n",
      "50%      1.327057e+05    2.146614e+05  1.122355e+01      9.561631e+00   \n",
      "75%      9.430367e+05    1.111909e+06  1.224876e+01      1.158353e+01   \n",
      "max      3.560159e+08    3.561793e+08  1.834213e+01      1.790292e+01   \n",
      "\n",
      "       LognewbalanceOrig  LogoldbalanceDest  LognewbalanceDest  \n",
      "count       6.362620e+06       6.362620e+06       6.362620e+06  \n",
      "mean        5.366092e+00       7.722420e+00       8.330604e+00  \n",
      "std         6.330024e+00       6.747637e+00       6.675095e+00  \n",
      "min         0.000000e+00       0.000000e+00       0.000000e+00  \n",
      "25%         0.000000e+00       0.000000e+00       0.000000e+00  \n",
      "50%         0.000000e+00       1.179590e+01       1.227682e+01  \n",
      "75%         1.187937e+01       1.375686e+01       1.392159e+01  \n",
      "max         1.771920e+01       1.969049e+01       1.969094e+01  \n"
     ]
    },
    {
     "data": {
      "image/png": "[encoded data removed]",
      "text/plain": [
       "<Figure size 3600x3600 with 5 Axes>"
      ]
     },
     "metadata": {
      "needs_background": "light"
     },
     "output_type": "display_data"
    }
   ],
   "source": [
    "#Transform and look at the values\n",
    "import numpy as np\n",
    "def logx(x):\n",
    "    return np.log(1 + x)\n",
    "for col in x_train.columns:\n",
    "    if col in ['step','nameOrig','nameDest','type']:\n",
    "        continue\n",
    "    x_train['Log' + col] = x_train[col].apply(logx)\n",
    "print(x_train.describe())\n",
    "x_train.drop(columns = ['amount','oldbalanceOrg','newbalanceOrig','oldbalanceDest','newbalanceDest'],inplace = True)\n",
    "plt.figure(1,figsize = (50,50))\n",
    "i = 1; nrows = 25; ncols = 25\n",
    "for col in x_train.columns:\n",
    "    if 'Log' not in col:\n",
    "        continue \n",
    "    plt.subplot(nrows,ncols,i)\n",
    "    x_train[col].hist(bins = 50)\n",
    "    plt.xlabel(col)\n",
    "    i += 1\n",
    "plt.tight_layout()\n",
    "plt.show()"
   ]
  },
  {
   "cell_type": "code",
   "execution_count": 4,
   "metadata": {},
   "outputs": [
    {
     "name": "stdout",
     "output_type": "stream",
     "text": [
      "<class 'pandas.core.frame.DataFrame'>\n",
      "RangeIndex: 6362620 entries, 0 to 6362619\n",
      "Data columns (total 9 columns):\n",
      " #   Column          Dtype  \n",
      "---  ------          -----  \n",
      " 0   step            int64  \n",
      " 1   type            object \n",
      " 2   nameOrig        object \n",
      " 3   nameDest        object \n",
      " 4   Amount          float64\n",
      " 5   OldBalanceOrig  float64\n",
      " 6   NewBalanceOrig  float64\n",
      " 7   OldBalanceDest  float64\n",
      " 8   NewBalanceDest  float64\n",
      "dtypes: float64(5), int64(1), object(3)\n",
      "memory usage: 436.9+ MB\n"
     ]
    },
    {
     "data": {
      "text/html": [
       "<div>\n",
       "<style scoped>\n",
       "    .dataframe tbody tr th:only-of-type {\n",
       "        vertical-align: middle;\n",
       "    }\n",
       "\n",
       "    .dataframe tbody tr th {\n",
       "        vertical-align: top;\n",
       "    }\n",
       "\n",
       "    .dataframe thead th {\n",
       "        text-align: right;\n",
       "    }\n",
       "</style>\n",
       "<table border=\"1\" class=\"dataframe\">\n",
       "  <thead>\n",
       "    <tr style=\"text-align: right;\">\n",
       "      <th></th>\n",
       "      <th>step</th>\n",
       "      <th>Amount</th>\n",
       "      <th>OldBalanceOrig</th>\n",
       "      <th>NewBalanceOrig</th>\n",
       "      <th>OldBalanceDest</th>\n",
       "      <th>NewBalanceDest</th>\n",
       "    </tr>\n",
       "  </thead>\n",
       "  <tbody>\n",
       "    <tr>\n",
       "      <th>count</th>\n",
       "      <td>6.362620e+06</td>\n",
       "      <td>6.362620e+06</td>\n",
       "      <td>6.362620e+06</td>\n",
       "      <td>6.362620e+06</td>\n",
       "      <td>6.362620e+06</td>\n",
       "      <td>6.362620e+06</td>\n",
       "    </tr>\n",
       "    <tr>\n",
       "      <th>mean</th>\n",
       "      <td>2.433972e+02</td>\n",
       "      <td>5.910368e-01</td>\n",
       "      <td>4.141545e-01</td>\n",
       "      <td>3.028405e-01</td>\n",
       "      <td>3.921904e-01</td>\n",
       "      <td>4.230678e-01</td>\n",
       "    </tr>\n",
       "    <tr>\n",
       "      <th>std</th>\n",
       "      <td>1.423320e+02</td>\n",
       "      <td>9.892578e-02</td>\n",
       "      <td>3.166946e-01</td>\n",
       "      <td>3.572410e-01</td>\n",
       "      <td>3.426852e-01</td>\n",
       "      <td>3.389931e-01</td>\n",
       "    </tr>\n",
       "    <tr>\n",
       "      <th>min</th>\n",
       "      <td>1.000000e+00</td>\n",
       "      <td>0.000000e+00</td>\n",
       "      <td>0.000000e+00</td>\n",
       "      <td>0.000000e+00</td>\n",
       "      <td>0.000000e+00</td>\n",
       "      <td>0.000000e+00</td>\n",
       "    </tr>\n",
       "    <tr>\n",
       "      <th>25%</th>\n",
       "      <td>1.560000e+02</td>\n",
       "      <td>5.180590e-01</td>\n",
       "      <td>0.000000e+00</td>\n",
       "      <td>0.000000e+00</td>\n",
       "      <td>0.000000e+00</td>\n",
       "      <td>0.000000e+00</td>\n",
       "    </tr>\n",
       "    <tr>\n",
       "      <th>50%</th>\n",
       "      <td>2.390000e+02</td>\n",
       "      <td>6.118999e-01</td>\n",
       "      <td>5.340823e-01</td>\n",
       "      <td>0.000000e+00</td>\n",
       "      <td>5.990658e-01</td>\n",
       "      <td>6.234755e-01</td>\n",
       "    </tr>\n",
       "    <tr>\n",
       "      <th>75%</th>\n",
       "      <td>3.350000e+02</td>\n",
       "      <td>6.677938e-01</td>\n",
       "      <td>6.470195e-01</td>\n",
       "      <td>6.704235e-01</td>\n",
       "      <td>6.986553e-01</td>\n",
       "      <td>7.070047e-01</td>\n",
       "    </tr>\n",
       "    <tr>\n",
       "      <th>max</th>\n",
       "      <td>7.430000e+02</td>\n",
       "      <td>1.000000e+00</td>\n",
       "      <td>1.000000e+00</td>\n",
       "      <td>1.000000e+00</td>\n",
       "      <td>1.000000e+00</td>\n",
       "      <td>1.000000e+00</td>\n",
       "    </tr>\n",
       "  </tbody>\n",
       "</table>\n",
       "</div>"
      ],
      "text/plain": [
       "               step        Amount  OldBalanceOrig  NewBalanceOrig  \\\n",
       "count  6.362620e+06  6.362620e+06    6.362620e+06    6.362620e+06   \n",
       "mean   2.433972e+02  5.910368e-01    4.141545e-01    3.028405e-01   \n",
       "std    1.423320e+02  9.892578e-02    3.166946e-01    3.572410e-01   \n",
       "min    1.000000e+00  0.000000e+00    0.000000e+00    0.000000e+00   \n",
       "25%    1.560000e+02  5.180590e-01    0.000000e+00    0.000000e+00   \n",
       "50%    2.390000e+02  6.118999e-01    5.340823e-01    0.000000e+00   \n",
       "75%    3.350000e+02  6.677938e-01    6.470195e-01    6.704235e-01   \n",
       "max    7.430000e+02  1.000000e+00    1.000000e+00    1.000000e+00   \n",
       "\n",
       "       OldBalanceDest  NewBalanceDest  \n",
       "count    6.362620e+06    6.362620e+06  \n",
       "mean     3.921904e-01    4.230678e-01  \n",
       "std      3.426852e-01    3.389931e-01  \n",
       "min      0.000000e+00    0.000000e+00  \n",
       "25%      0.000000e+00    0.000000e+00  \n",
       "50%      5.990658e-01    6.234755e-01  \n",
       "75%      6.986553e-01    7.070047e-01  \n",
       "max      1.000000e+00    1.000000e+00  "
      ]
     },
     "execution_count": 4,
     "metadata": {},
     "output_type": "execute_result"
    }
   ],
   "source": [
    "#Normalize the numerical features after log transformation\n",
    "from sklearn.preprocessing import MinMaxScaler\n",
    "scaler = MinMaxScaler()\n",
    "numericalColumns = ['Amount','OldBalanceOrig','NewBalanceOrig','OldBalanceDest','NewBalanceDest']\n",
    "logColumns = ['Logamount','LogoldbalanceOrg','LognewbalanceOrig','LogoldbalanceDest','LognewbalanceDest']\n",
    "x_train[logColumns] = scaler.fit_transform(x_train[logColumns])\n",
    "x_train.rename(columns = {'Logamount':'Amount','LogoldbalanceOrg':'OldBalanceOrig','LognewbalanceOrig':'NewBalanceOrig','LogoldbalanceDest':'OldBalanceDest','LognewbalanceDest':'NewBalanceDest'},inplace = True)\n",
    "x_train.info()\n",
    "x_train.describe()"
   ]
  },
  {
   "cell_type": "code",
   "execution_count": 9,
   "metadata": {},
   "outputs": [
    {
     "name": "stdout",
     "output_type": "stream",
     "text": [
      "<class 'pandas.core.frame.DataFrame'>\n",
      "RangeIndex: 6362620 entries, 0 to 6362619\n",
      "Data columns (total 11 columns):\n",
      " #   Column          Dtype  \n",
      "---  ------          -----  \n",
      " 0   Step            int64  \n",
      " 1   Amount          float64\n",
      " 2   OldBalanceOrig  float64\n",
      " 3   NewBalanceOrig  float64\n",
      " 4   OldBalanceDest  float64\n",
      " 5   NewBalanceDest  float64\n",
      " 6   Type_CASH_IN    uint8  \n",
      " 7   Type_CASH_OUT   uint8  \n",
      " 8   Type_DEBIT      uint8  \n",
      " 9   Type_PAYMENT    uint8  \n",
      " 10  Type_TRANSFER   uint8  \n",
      "dtypes: float64(5), int64(1), uint8(5)\n",
      "memory usage: 321.6 MB\n"
     ]
    }
   ],
   "source": [
    "#Import one model and train \n",
    "from sklearn.model_selection import train_test_split\n",
    "x_train.rename(columns = {'step':'Step','type':'Type'},inplace = True)\n",
    "xTrainFinal = pd.get_dummies(x_train,columns = ['Type'])\n",
    "xTrainFinal.info()\n",
    "xTrainFinal.describe()\n",
    "x_train,x_test,y_train,y_test = train_test_split(xTrainFinal,targetsActual,test_size = 0.25,random_state = 42)"
   ]
  },
  {
   "cell_type": "code",
   "execution_count": null,
   "metadata": {},
   "outputs": [],
   "source": [
    "from sklearn.metrics import accuracy_score,f1_score"
   ]
  }
 ],
 "metadata": {
  "kernelspec": {
   "display_name": "Python 3",
   "language": "python",
   "name": "python3"
  },
  "language_info": {
   "codemirror_mode": {
    "name": "ipython",
    "version": 3
   },
   "file_extension": ".py",
   "mimetype": "text/x-python",
   "name": "python",
   "nbconvert_exporter": "python",
   "pygments_lexer": "ipython3",
   "version": "3.7.6"
  }
 },
 "nbformat": 4,
 "nbformat_minor": 4
}
