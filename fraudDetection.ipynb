{
 "cells": [
  {
   "cell_type": "code",
   "execution_count": 1,
   "metadata": {},
   "outputs": [],
   "source": [
    "import os \n",
    "import pandas as pd \n",
    "import dataPrep as dP \n",
    "import matplotlib.pyplot as plt \n",
    "import seaborn as sns"
   ]
  },
  {
   "cell_type": "code",
   "execution_count": 2,
   "metadata": {},
   "outputs": [
    {
     "name": "stdout",
     "output_type": "stream",
     "text": [
      "<class 'pandas.core.frame.DataFrame'>\n",
      "RangeIndex: 6362620 entries, 0 to 6362619\n",
      "Data columns (total 11 columns):\n",
      " #   Column          Dtype  \n",
      "---  ------          -----  \n",
      " 0   step            int64  \n",
      " 1   type            object \n",
      " 2   amount          float64\n",
      " 3   nameOrig        object \n",
      " 4   oldbalanceOrg   float64\n",
      " 5   newbalanceOrig  float64\n",
      " 6   nameDest        object \n",
      " 7   oldbalanceDest  float64\n",
      " 8   newbalanceDest  float64\n",
      " 9   isFraud         int64  \n",
      " 10  isFlaggedFraud  int64  \n",
      "dtypes: float64(5), int64(3), object(3)\n",
      "memory usage: 534.0+ MB\n"
     ]
    },
    {
     "data": {
      "image/png": "[encoded data removed]",
      "text/plain": [
       "<Figure size 3600x3600 with 5 Axes>"
      ]
     },
     "metadata": {
      "needs_background": "light"
     },
     "output_type": "display_data"
    }
   ],
   "source": [
    "#Get the data and visualize them prior to transformation\n",
    "x_train,targetsActual,targetsFlagged = dP.getData()\n",
    "#print(x_train.info())\n",
    "plt.figure(1,figsize = (50,50))\n",
    "i = 1; nrows = 20; ncols = 20\n",
    "for col in x_train.columns:\n",
    "    if col in ['step','nameOrig','nameDest','type']:\n",
    "        continue\n",
    "    plt.subplot(nrows,ncols,i)\n",
    "    x_train[col].hist(bins = 50)\n",
    "    plt.xlabel(col)\n",
    "    i += 1\n",
    "plt.tight_layout()\n",
    "plt.show()    "
   ]
  },
  {
   "cell_type": "code",
   "execution_count": 3,
   "metadata": {},
   "outputs": [
    {
     "name": "stdout",
     "output_type": "stream",
     "text": [
      "               step        amount  oldbalanceOrg  newbalanceOrig  \\\n",
      "count  6.362620e+06  6.362620e+06   6.362620e+06    6.362620e+06   \n",
      "mean   2.433972e+02  1.798619e+05   8.338831e+05    8.551137e+05   \n",
      "std    1.423320e+02  6.038582e+05   2.888243e+06    2.924049e+06   \n",
      "min    1.000000e+00  0.000000e+00   0.000000e+00    0.000000e+00   \n",
      "25%    1.560000e+02  1.338957e+04   0.000000e+00    0.000000e+00   \n",
      "50%    2.390000e+02  7.487194e+04   1.420800e+04    0.000000e+00   \n",
      "75%    3.350000e+02  2.087215e+05   1.073152e+05    1.442584e+05   \n",
      "max    7.430000e+02  9.244552e+07   5.958504e+07    4.958504e+07   \n",
      "\n",
      "       oldbalanceDest  newbalanceDest     Logamount  LogoldbalanceOrg  \\\n",
      "count    6.362620e+06    6.362620e+06  6.362620e+06      6.362620e+06   \n",
      "mean     1.100702e+06    1.224996e+06  1.084087e+01      7.414574e+00   \n",
      "std      3.399180e+06    3.674129e+06  1.814509e+00      5.669756e+00   \n",
      "min      0.000000e+00    0.000000e+00  0.000000e+00      0.000000e+00   \n",
      "25%      0.000000e+00    0.000000e+00  9.502306e+00      0.000000e+00   \n",
      "50%      1.327057e+05    2.146614e+05  1.122355e+01      9.561631e+00   \n",
      "75%      9.430367e+05    1.111909e+06  1.224876e+01      1.158353e+01   \n",
      "max      3.560159e+08    3.561793e+08  1.834213e+01      1.790292e+01   \n",
      "\n",
      "       LognewbalanceOrig  LogoldbalanceDest  LognewbalanceDest  \n",
      "count       6.362620e+06       6.362620e+06       6.362620e+06  \n",
      "mean        5.366092e+00       7.722420e+00       8.330604e+00  \n",
      "std         6.330024e+00       6.747637e+00       6.675095e+00  \n",
      "min         0.000000e+00       0.000000e+00       0.000000e+00  \n",
      "25%         0.000000e+00       0.000000e+00       0.000000e+00  \n",
      "50%         0.000000e+00       1.179590e+01       1.227682e+01  \n",
      "75%         1.187937e+01       1.375686e+01       1.392159e+01  \n",
      "max         1.771920e+01       1.969049e+01       1.969094e+01  \n"
     ]
    },
    {
     "data": {
      "image/png": "[encoded data removed]",
      "text/plain": [
       "<Figure size 3600x3600 with 5 Axes>"
      ]
     },
     "metadata": {
      "needs_background": "light"
     },
     "output_type": "display_data"
    }
   ],
   "source": [
    "#Transform and look at the values\n",
    "import numpy as np\n",
    "def logx(x):\n",
    "    return np.log(1 + x)\n",
    "for col in x_train.columns:\n",
    "    if col in ['step','nameOrig','nameDest','type']:\n",
    "        continue\n",
    "    x_train['Log' + col] = x_train[col].apply(logx)\n",
    "print(x_train.describe())\n",
    "x_train.drop(columns = ['amount','oldbalanceOrg','newbalanceOrig','oldbalanceDest','newbalanceDest'],inplace = True)\n",
    "plt.figure(1,figsize = (50,50))\n",
    "i = 1; nrows = 25; ncols = 25\n",
    "for col in x_train.columns:\n",
    "    if 'Log' not in col:\n",
    "        continue \n",
    "    plt.subplot(nrows,ncols,i)\n",
    "    x_train[col].hist(bins = 50)\n",
    "    plt.xlabel(col)\n",
    "    i += 1\n",
    "plt.tight_layout()\n",
    "plt.show()"
   ]
  },
  {
   "cell_type": "code",
   "execution_count": 4,
   "metadata": {},
   "outputs": [
    {
     "name": "stdout",
     "output_type": "stream",
     "text": [
      "<class 'pandas.core.frame.DataFrame'>\n",
      "RangeIndex: 6362620 entries, 0 to 6362619\n",
      "Data columns (total 9 columns):\n",
      " #   Column          Dtype  \n",
      "---  ------          -----  \n",
      " 0   step            int64  \n",
      " 1   type            object \n",
      " 2   nameOrig        object \n",
      " 3   nameDest        object \n",
      " 4   Amount          float64\n",
      " 5   OldBalanceOrig  float64\n",
      " 6   NewBalanceOrig  float64\n",
      " 7   OldBalanceDest  float64\n",
      " 8   NewBalanceDest  float64\n",
      "dtypes: float64(5), int64(1), object(3)\n",
      "memory usage: 436.9+ MB\n"
     ]
    },
    {
     "data": {
      "text/html": [
       "<div>\n",
       "<style scoped>\n",
       "    .dataframe tbody tr th:only-of-type {\n",
       "        vertical-align: middle;\n",
       "    }\n",
       "\n",
       "    .dataframe tbody tr th {\n",
       "        vertical-align: top;\n",
       "    }\n",
       "\n",
       "    .dataframe thead th {\n",
       "        text-align: right;\n",
       "    }\n",
       "</style>\n",
       "<table border=\"1\" class=\"dataframe\">\n",
       "  <thead>\n",
       "    <tr style=\"text-align: right;\">\n",
       "      <th></th>\n",
       "      <th>step</th>\n",
       "      <th>Amount</th>\n",
       "      <th>OldBalanceOrig</th>\n",
       "      <th>NewBalanceOrig</th>\n",
       "      <th>OldBalanceDest</th>\n",
       "      <th>NewBalanceDest</th>\n",
       "    </tr>\n",
       "  </thead>\n",
       "  <tbody>\n",
       "    <tr>\n",
       "      <th>count</th>\n",
       "      <td>6.362620e+06</td>\n",
       "      <td>6.362620e+06</td>\n",
       "      <td>6.362620e+06</td>\n",
       "      <td>6.362620e+06</td>\n",
       "      <td>6.362620e+06</td>\n",
       "      <td>6.362620e+06</td>\n",
       "    </tr>\n",
       "    <tr>\n",
       "      <th>mean</th>\n",
       "      <td>2.433972e+02</td>\n",
       "      <td>5.910368e-01</td>\n",
       "      <td>4.141545e-01</td>\n",
       "      <td>3.028405e-01</td>\n",
       "      <td>3.921904e-01</td>\n",
       "      <td>4.230678e-01</td>\n",
       "    </tr>\n",
       "    <tr>\n",
       "      <th>std</th>\n",
       "      <td>1.423320e+02</td>\n",
       "      <td>9.892578e-02</td>\n",
       "      <td>3.166946e-01</td>\n",
       "      <td>3.572410e-01</td>\n",
       "      <td>3.426852e-01</td>\n",
       "      <td>3.389931e-01</td>\n",
       "    </tr>\n",
       "    <tr>\n",
       "      <th>min</th>\n",
       "      <td>1.000000e+00</td>\n",
       "      <td>0.000000e+00</td>\n",
       "      <td>0.000000e+00</td>\n",
       "      <td>0.000000e+00</td>\n",
       "      <td>0.000000e+00</td>\n",
       "      <td>0.000000e+00</td>\n",
       "    </tr>\n",
       "    <tr>\n",
       "      <th>25%</th>\n",
       "      <td>1.560000e+02</td>\n",
       "      <td>5.180590e-01</td>\n",
       "      <td>0.000000e+00</td>\n",
       "      <td>0.000000e+00</td>\n",
       "      <td>0.000000e+00</td>\n",
       "      <td>0.000000e+00</td>\n",
       "    </tr>\n",
       "    <tr>\n",
       "      <th>50%</th>\n",
       "      <td>2.390000e+02</td>\n",
       "      <td>6.118999e-01</td>\n",
       "      <td>5.340823e-01</td>\n",
       "      <td>0.000000e+00</td>\n",
       "      <td>5.990658e-01</td>\n",
       "      <td>6.234755e-01</td>\n",
       "    </tr>\n",
       "    <tr>\n",
       "      <th>75%</th>\n",
       "      <td>3.350000e+02</td>\n",
       "      <td>6.677938e-01</td>\n",
       "      <td>6.470195e-01</td>\n",
       "      <td>6.704235e-01</td>\n",
       "      <td>6.986553e-01</td>\n",
       "      <td>7.070047e-01</td>\n",
       "    </tr>\n",
       "    <tr>\n",
       "      <th>max</th>\n",
       "      <td>7.430000e+02</td>\n",
       "      <td>1.000000e+00</td>\n",
       "      <td>1.000000e+00</td>\n",
       "      <td>1.000000e+00</td>\n",
       "      <td>1.000000e+00</td>\n",
       "      <td>1.000000e+00</td>\n",
       "    </tr>\n",
       "  </tbody>\n",
       "</table>\n",
       "</div>"
      ],
      "text/plain": [
       "               step        Amount  OldBalanceOrig  NewBalanceOrig  \\\n",
       "count  6.362620e+06  6.362620e+06    6.362620e+06    6.362620e+06   \n",
       "mean   2.433972e+02  5.910368e-01    4.141545e-01    3.028405e-01   \n",
       "std    1.423320e+02  9.892578e-02    3.166946e-01    3.572410e-01   \n",
       "min    1.000000e+00  0.000000e+00    0.000000e+00    0.000000e+00   \n",
       "25%    1.560000e+02  5.180590e-01    0.000000e+00    0.000000e+00   \n",
       "50%    2.390000e+02  6.118999e-01    5.340823e-01    0.000000e+00   \n",
       "75%    3.350000e+02  6.677938e-01    6.470195e-01    6.704235e-01   \n",
       "max    7.430000e+02  1.000000e+00    1.000000e+00    1.000000e+00   \n",
       "\n",
       "       OldBalanceDest  NewBalanceDest  \n",
       "count    6.362620e+06    6.362620e+06  \n",
       "mean     3.921904e-01    4.230678e-01  \n",
       "std      3.426852e-01    3.389931e-01  \n",
       "min      0.000000e+00    0.000000e+00  \n",
       "25%      0.000000e+00    0.000000e+00  \n",
       "50%      5.990658e-01    6.234755e-01  \n",
       "75%      6.986553e-01    7.070047e-01  \n",
       "max      1.000000e+00    1.000000e+00  "
      ]
     },
     "execution_count": 4,
     "metadata": {},
     "output_type": "execute_result"
    }
   ],
   "source": [
    "#Normalize the numerical features after log transformation\n",
    "from sklearn.preprocessing import MinMaxScaler\n",
    "scaler = MinMaxScaler()\n",
    "numericalColumns = ['Amount','OldBalanceOrig','NewBalanceOrig','OldBalanceDest','NewBalanceDest']\n",
    "logColumns = ['Logamount','LogoldbalanceOrg','LognewbalanceOrig','LogoldbalanceDest','LognewbalanceDest']\n",
    "x_train[logColumns] = scaler.fit_transform(x_train[logColumns])\n",
    "x_train.rename(columns = {'Logamount':'Amount','LogoldbalanceOrg':'OldBalanceOrig','LognewbalanceOrig':'NewBalanceOrig','LogoldbalanceDest':'OldBalanceDest','LognewbalanceDest':'NewBalanceDest'},inplace = True)\n",
    "x_train.info()\n",
    "x_train.describe()"
   ]
  },
  {
   "cell_type": "code",
   "execution_count": 5,
   "metadata": {},
   "outputs": [
    {
     "name": "stdout",
     "output_type": "stream",
     "text": [
      "<class 'pandas.core.frame.DataFrame'>\n",
      "RangeIndex: 6362620 entries, 0 to 6362619\n",
      "Data columns (total 11 columns):\n",
      " #   Column          Dtype  \n",
      "---  ------          -----  \n",
      " 0   Step            int64  \n",
      " 1   Amount          float64\n",
      " 2   OldBalanceOrig  float64\n",
      " 3   NewBalanceOrig  float64\n",
      " 4   OldBalanceDest  float64\n",
      " 5   NewBalanceDest  float64\n",
      " 6   Type_CASH_IN    uint8  \n",
      " 7   Type_CASH_OUT   uint8  \n",
      " 8   Type_DEBIT      uint8  \n",
      " 9   Type_PAYMENT    uint8  \n",
      " 10  Type_TRANSFER   uint8  \n",
      "dtypes: float64(5), int64(1), uint8(5)\n",
      "memory usage: 321.6 MB\n",
      "Number of fraudulent transactions: 8213\n",
      "Number of non-fraudulent transactions: 6354407\n"
     ]
    }
   ],
   "source": [
    "#Import one model and train \n",
    "from sklearn.model_selection import train_test_split\n",
    "x_train.rename(columns = {'step':'Step','type':'Type'},inplace = True)\n",
    "x_train.drop(columns = ['nameOrig','nameDest'],inplace = True)\n",
    "xTrainFinal = pd.get_dummies(x_train,columns = ['Type'])\n",
    "xTrainFinal.info()\n",
    "xTrainFinal.describe()\n",
    "x_train,x_test,y_train,y_test = train_test_split(xTrainFinal,targetsActual,test_size = 0.25,random_state = 42)\n",
    "print(\"Number of fraudulent transactions: {}\".format(len(targetsActual[targetsActual == 1])))\n",
    "print(\"Number of non-fraudulent transactions: {}\".format(len(targetsActual[targetsActual == 0])))\n",
    "del xTrainFinal"
   ]
  },
  {
   "cell_type": "code",
   "execution_count": 16,
   "metadata": {},
   "outputs": [
    {
     "name": "stdout",
     "output_type": "stream",
     "text": [
      "{'training_time': 71.97361207008362, 'testing_time': 0.2699007987976074, 'acc_test': 0.9997258990793101, 'f_test': 0.8994100589941006}\n"
     ]
    }
   ],
   "source": [
    "#Train one model and then try on a few more \n",
    "from sklearn.metrics import accuracy_score,fbeta_score\n",
    "from sklearn.tree import DecisionTreeClassifier\n",
    "from time import time \n",
    "dtc = DecisionTreeClassifier(random_state=0)\n",
    "results = {}\n",
    "start = time()\n",
    "learner = dtc.fit(x_train,y_train)\n",
    "end = time()\n",
    "results['training_time'] = end - start\n",
    "\n",
    "start = time()\n",
    "predictions_test = learner.predict(x_test)\n",
    "end = time()\n",
    "results['testing_time'] = end - start\n",
    "results['acc_test'] = accuracy_score(y_test, predictions_test)\n",
    "results['f_test'] = fbeta_score(y_test, predictions_test, beta=0.5)\n",
    "print(results)"
   ]
  },
  {
   "cell_type": "code",
   "execution_count": 6,
   "metadata": {},
   "outputs": [
    {
     "name": "stdout",
     "output_type": "stream",
     "text": [
      "The accuracy present here: 0.9987116942391656\n",
      "Number of flagged fraudulent transactions: 16\n"
     ]
    }
   ],
   "source": [
    "#Start by measuring the accuracy and fScore present. \n",
    "from sklearn.metrics import fbeta_score,accuracy_score\n",
    "initial_acc = accuracy_score(targetsActual,targetsFlagged)\n",
    "initial_fScore = fbeta_score(targetsActual,targetsFlagged, beta=0.5)\n",
    "print(\"Initial accuracy: {}\".format(initial_acc))\n",
    "print(\"Initial F-score: {}\".format(initial_fScore))\n",
    "print(\"Number of flagged fraudulent transactions: {}\".format(len(targetsFlagged[targetsFlagged == 1])))"
   ]
  },
  {
   "cell_type": "code",
   "execution_count": 7,
   "metadata": {},
   "outputs": [
    {
     "name": "stdout",
     "output_type": "stream",
     "text": [
      "GaussianNB trained on 4771965 samples.\n",
      "KNeighborsClassifier trained on 4771965 samples.\n"
     ]
    },
    {
     "name": "stderr",
     "output_type": "stream",
     "text": [
      "/usr/local/lib/python3.7/site-packages/sklearn/svm/_base.py:947: ConvergenceWarning: Liblinear failed to converge, increase the number of iterations.\n",
      "  \"the number of iterations.\", ConvergenceWarning)\n"
     ]
    },
    {
     "name": "stdout",
     "output_type": "stream",
     "text": [
      "LinearSVC trained on 4771965 samples.\n"
     ]
    },
    {
     "name": "stderr",
     "output_type": "stream",
     "text": [
      "/usr/local/lib/python3.7/site-packages/sklearn/linear_model/_logistic.py:940: ConvergenceWarning: lbfgs failed to converge (status=1):\n",
      "STOP: TOTAL NO. of ITERATIONS REACHED LIMIT.\n",
      "\n",
      "Increase the number of iterations (max_iter) or scale the data as shown in:\n",
      "    https://scikit-learn.org/stable/modules/preprocessing.html\n",
      "Please also refer to the documentation for alternative solver options:\n",
      "    https://scikit-learn.org/stable/modules/linear_model.html#logistic-regression\n",
      "  extra_warning_msg=_LOGISTIC_SOLVER_CONVERGENCE_MSG)\n"
     ]
    },
    {
     "name": "stdout",
     "output_type": "stream",
     "text": [
      "LogisticRegression trained on 4771965 samples.\n",
      "GradientBoostingClassifier trained on 4771965 samples.\n",
      "[0.008598104109428538, 0.8775161163004869, 0.0, 0.7677997632335533, 0.8084596967278532]\n",
      "[2.2382500171661377, 861.6082780361176, 1423.3665528297424, 50.67125391960144, 1493.7298777103424]\n",
      "[0.819117281874448, 0.9995184373732834, 0.9987143660944705, 0.9992481084836121, 0.9993248064476583]\n",
      "['GaussianNB', 'KNeighbors', 'LinearSVC', 'LogisticRegression', 'GradientBoosting']\n"
     ]
    },
    {
     "data": {
      "image/png": "[encoded data removed]",
      "text/plain": [
       "<Figure size 3240x1080 with 2 Axes>"
      ]
     },
     "metadata": {
      "needs_background": "light"
     },
     "output_type": "display_data"
    }
   ],
   "source": [
    "from sklearn.naive_bayes import GaussianNB\n",
    "from sklearn.neighbors import KNeighborsClassifier\n",
    "from sklearn.linear_model import LogisticRegression\n",
    "from sklearn.ensemble import GradientBoostingClassifier\n",
    "from sklearn.svm import LinearSVC\n",
    "from time import time\n",
    "\n",
    "del targetsActual,targetsFlagged\n",
    "gnb = GaussianNB()\n",
    "#rfc = RandomForestClassifier(random_state=42, n_jobs=2)\n",
    "knn = KNeighborsClassifier(n_jobs=2)\n",
    "lreg = LogisticRegression(random_state=42)\n",
    "lsvc = LinearSVC(random_state=42)\n",
    "gdb = GradientBoostingClassifier(random_state=42)\n",
    "classifiersList = [gnb,knn,lsvc,lreg,gdb]\n",
    "classifiersScores = []\n",
    "classifiersTrainTimes = []\n",
    "\n",
    "def trainPredict(model,sampleSize,x_train,y_train,x_test,y_test):\n",
    "    '''\n",
    "    model: The algorithm\n",
    "    sampleSize: The size of samples to draw from\n",
    "    x_train: Training dataset\n",
    "    y_train: Labels \n",
    "    x_test: Test set\n",
    "    y_test: Test labels\n",
    "    '''\n",
    "    results = {}\n",
    "    #Training the model \n",
    "    start = time()\n",
    "    learner = model.fit(x_train[:sampleSize],y_train[:sampleSize])\n",
    "    end = time()\n",
    "    results['training_time'] = end - start\n",
    "    \n",
    "    #Predictions \n",
    "    start = time()\n",
    "    predictions_test = learner.predict(x_test)\n",
    "    end = time()\n",
    "    results['testing_time'] = end - start\n",
    "    results['acc_test'] = accuracy_score(y_test, predictions_test)\n",
    "    results['f_test'] = fbeta_score(y_test, predictions_test, beta=0.5)\n",
    "    print (\"{} trained on {} samples.\".format(model.__class__.__name__, sampleSize))\n",
    "    results['clf_name'] = model.__class__.__name__\n",
    "    return results\n",
    "\n",
    "#Create lists to store selected benchmarking results\n",
    "clf_lscores = []\n",
    "clf_ltrain_times = []\n",
    "clf_lnames = []\n",
    "clf_testAccuracies = []\n",
    "\n",
    "for model in classifiersList:\n",
    "    #Train the various models on the same set of data to compare and choose the best model\n",
    "    clfResults = trainPredict(model,len(y_train),x_train,y_train,x_test,y_test)\n",
    "    clf_lscores.append(clfResults['f_test'])\n",
    "    clf_ltrain_times.append(clfResults['training_time'])\n",
    "    clf_testAccuracies.append(clfResults['acc_test'])\n",
    "    clf_lnames.append(clfResults['clf_name'].replace('Classifier', ''))\n",
    "print(clf_lscores)\n",
    "print(clf_ltrain_times)\n",
    "print(clf_testAccuracies)\n",
    "print(clf_lnames)\n",
    "\n",
    "#Plot the results using the metrics obtained \n",
    "plt.figure(1,figsize = (45,15))\n",
    "nGroups = len(clf_lscores)\n",
    "index = np.arange(nGroups)\n",
    "barWidth = 0.35\n",
    "opacity = 0.4\n",
    "data1 = clf_lscores\n",
    "data2 = clf_testAccuracies \n",
    "plt.subplot(2,3,1)\n",
    "plt.xlabel('Classifier')\n",
    "plt.ylabel('F-score Test')\n",
    "plt.title('Classifier F-score')\n",
    "plt.xticks(index, clf_lnames)\n",
    "bar1 = plt.bar(index, data1, barWidth, alpha=opacity, color='k')\n",
    "for rect in bar1:\n",
    "    height = rect.get_height()\n",
    "    plt.text(rect.get_x() + rect.get_width()/2.0, height, '%f' % height, ha='center', va='top',color = 'b')\n",
    "plt.subplot(2,3,4)\n",
    "plt.xlabel('Classifier')\n",
    "plt.ylabel('Test Accuracy')\n",
    "plt.title('Classifier Testing Accuracies')\n",
    "plt.xticks(index, clf_lnames)\n",
    "bar2 = plt.bar(index, data2, barWidth, alpha=opacity, color='g')\n",
    "for rect in bar2:\n",
    "    height = rect.get_height()\n",
    "    plt.text(rect.get_x() + rect.get_width()/2.0, height, '%f' % height, ha='center', va='top',color = 'b')\n",
    "plt.tight_layout()\n",
    "plt.show()"
   ]
  },
  {
   "cell_type": "code",
   "execution_count": null,
   "metadata": {},
   "outputs": [],
   "source": []
  }
 ],
 "metadata": {
  "kernelspec": {
   "display_name": "Python 3",
   "language": "python",
   "name": "python3"
  },
  "language_info": {
   "codemirror_mode": {
    "name": "ipython",
    "version": 3
   },
   "file_extension": ".py",
   "mimetype": "text/x-python",
   "name": "python",
   "nbconvert_exporter": "python",
   "pygments_lexer": "ipython3",
   "version": "3.7.6"
  }
 },
 "nbformat": 4,
 "nbformat_minor": 4
}
