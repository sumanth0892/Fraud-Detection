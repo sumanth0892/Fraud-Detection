{
 "cells": [
  {
   "cell_type": "code",
   "execution_count": 1,
   "metadata": {},
   "outputs": [],
   "source": [
    "import os \n",
    "import pandas as pd \n",
    "import dataPrep as dP \n",
    "import matplotlib.pyplot as plt \n",
    "import seaborn as sns"
   ]
  },
  {
   "cell_type": "code",
   "execution_count": 2,
   "metadata": {},
   "outputs": [
    {
     "name": "stdout",
     "output_type": "stream",
     "text": [
      "<class 'pandas.core.frame.DataFrame'>\n",
      "RangeIndex: 6362620 entries, 0 to 6362619\n",
      "Data columns (total 11 columns):\n",
      " #   Column          Dtype  \n",
      "---  ------          -----  \n",
      " 0   step            int64  \n",
      " 1   type            object \n",
      " 2   amount          float64\n",
      " 3   nameOrig        object \n",
      " 4   oldbalanceOrg   float64\n",
      " 5   newbalanceOrig  float64\n",
      " 6   nameDest        object \n",
      " 7   oldbalanceDest  float64\n",
      " 8   newbalanceDest  float64\n",
      " 9   isFraud         int64  \n",
      " 10  isFlaggedFraud  int64  \n",
      "dtypes: float64(5), int64(3), object(3)\n",
      "memory usage: 534.0+ MB\n"
     ]
    },
    {
     "data": {
      "image/png": "[encoded data removed]",
      "text/plain": [
       "<Figure size 3600x3600 with 5 Axes>"
      ]
     },
     "metadata": {
      "needs_background": "light"
     },
     "output_type": "display_data"
    }
   ],
   "source": [
    "#Get the data and visualize them prior to transformation\n",
    "x_train,targetsActual,targetsFlagged = dP.getData()\n",
    "#print(x_train.info())\n",
    "plt.figure(1,figsize = (50,50))\n",
    "i = 1; nrows = 20; ncols = 20\n",
    "for col in x_train.columns:\n",
    "    if col in ['step','nameOrig','nameDest','type']:\n",
    "        continue\n",
    "    plt.subplot(nrows,ncols,i)\n",
    "    x_train[col].hist(bins = 50)\n",
    "    plt.xlabel(col)\n",
    "    i += 1\n",
    "plt.tight_layout()\n",
    "plt.show()    "
   ]
  },
  {
   "cell_type": "code",
   "execution_count": 3,
   "metadata": {},
   "outputs": [
    {
     "name": "stdout",
     "output_type": "stream",
     "text": [
      "               step        amount  oldbalanceOrg  newbalanceOrig  \\\n",
      "count  6.362620e+06  6.362620e+06   6.362620e+06    6.362620e+06   \n",
      "mean   2.433972e+02  1.798619e+05   8.338831e+05    8.551137e+05   \n",
      "std    1.423320e+02  6.038582e+05   2.888243e+06    2.924049e+06   \n",
      "min    1.000000e+00  0.000000e+00   0.000000e+00    0.000000e+00   \n",
      "25%    1.560000e+02  1.338957e+04   0.000000e+00    0.000000e+00   \n",
      "50%    2.390000e+02  7.487194e+04   1.420800e+04    0.000000e+00   \n",
      "75%    3.350000e+02  2.087215e+05   1.073152e+05    1.442584e+05   \n",
      "max    7.430000e+02  9.244552e+07   5.958504e+07    4.958504e+07   \n",
      "\n",
      "       oldbalanceDest  newbalanceDest     Logamount  LogoldbalanceOrg  \\\n",
      "count    6.362620e+06    6.362620e+06  6.362620e+06      6.362620e+06   \n",
      "mean     1.100702e+06    1.224996e+06  1.084252e+01      8.178673e+00   \n",
      "std      3.399180e+06    3.674129e+06  1.809876e+00      4.691891e+00   \n",
      "min      0.000000e+00    0.000000e+00  2.302585e+00      2.302585e+00   \n",
      "25%      0.000000e+00    0.000000e+00  9.502978e+00      2.302585e+00   \n",
      "50%      1.327057e+05    2.146614e+05  1.122367e+01      9.562264e+00   \n",
      "75%      9.430367e+05    1.111909e+06  1.224880e+01      1.158362e+01   \n",
      "max      3.560159e+08    3.561793e+08  1.834213e+01      1.790292e+01   \n",
      "\n",
      "       LognewbalanceOrig  LogoldbalanceDest  LognewbalanceDest  \n",
      "count       6.362620e+06       6.362620e+06       6.362620e+06  \n",
      "mean        6.672674e+00       8.701227e+00       9.213473e+00  \n",
      "std         5.229820e+00       5.631153e+00       5.576861e+00  \n",
      "min         2.302585e+00       2.302585e+00       2.302585e+00  \n",
      "25%         2.302585e+00       2.302585e+00       2.302585e+00  \n",
      "50%         2.302585e+00       1.179596e+01       1.227686e+01  \n",
      "75%         1.187943e+01       1.375687e+01       1.392160e+01  \n",
      "max         1.771920e+01       1.969049e+01       1.969094e+01  \n"
     ]
    },
    {
     "data": {
      "image/png": "[encoded data removed]",
      "text/plain": [
       "<Figure size 3600x3600 with 5 Axes>"
      ]
     },
     "metadata": {
      "needs_background": "light"
     },
     "output_type": "display_data"
    }
   ],
   "source": [
    "#Transform and look at the values\n",
    "import numpy as np\n",
    "def logx(x):\n",
    "    return np.log(1 + x)\n",
    "for col in x_train.columns:\n",
    "    if col in ['step','nameOrig','nameDest','type']:\n",
    "        continue\n",
    "    x_train['Log' + col] = x_train[col].apply(logx)\n",
    "print(x_train.describe())\n",
    "x_train.drop(columns = ['amount','oldbalanceOrg','newbalanceOrig','oldbalanceDest','newbalanceDest'],inplace = True)\n",
    "plt.figure(1,figsize = (50,50))\n",
    "i = 1; nrows = 25; ncols = 25\n",
    "for col in x_train.columns:\n",
    "    if 'Log' not in col:\n",
    "        continue \n",
    "    plt.subplot(nrows,ncols,i)\n",
    "    x_train[col].hist(bins = 50)\n",
    "    plt.xlabel(col)\n",
    "    i += 1\n",
    "plt.tight_layout()\n",
    "plt.show()"
   ]
  },
  {
   "cell_type": "code",
   "execution_count": 10,
   "metadata": {},
   "outputs": [
    {
     "name": "stdout",
     "output_type": "stream",
     "text": [
      "<class 'pandas.core.frame.DataFrame'>\n",
      "RangeIndex: 6362620 entries, 0 to 6362619\n",
      "Data columns (total 14 columns):\n",
      " #   Column             Dtype  \n",
      "---  ------             -----  \n",
      " 0   step               int64  \n",
      " 1   type               object \n",
      " 2   amount             float64\n",
      " 3   nameOrig           object \n",
      " 4   oldbalanceOrg      float64\n",
      " 5   newbalanceOrig     float64\n",
      " 6   nameDest           object \n",
      " 7   oldbalanceDest     float64\n",
      " 8   newbalanceDest     float64\n",
      " 9   Logamount          float64\n",
      " 10  LogoldbalanceOrg   float64\n",
      " 11  LognewbalanceOrig  float64\n",
      " 12  LogoldbalanceDest  float64\n",
      " 13  LognewbalanceDest  float64\n",
      "dtypes: float64(10), int64(1), object(3)\n",
      "memory usage: 679.6+ MB\n"
     ]
    }
   ],
   "source": [
    "#Normalize the numerical features after log transformation\n",
    "from sklearn.preprocessing import MinMaxScaler\n",
    "scaler = MinMaxScaler()\n",
    "numericalColumns = ['Amount','OldBalanceOrig','NewBalanceOrig','OldBalanceDest','NewBalanceDest']\n",
    "logColumns = ['Logamount','LogoldbalanceOrg','LognewbalanceOrig','LogoldbalanceDest','LognewbalanceDest']\n",
    "x_train[numericalColumns] = scaler.fit_transform(x_train[logColumns])\n",
    "x_train.info()\n",
    "x_train.describe()\n",
    "x_train.drop(logColumns,inplace = True)\n",
    "plt.figure(1,figsize = (50,50))\n",
    "i = 1; nrows = 25; ncols = 25\n",
    "for col in numericalColumns:\n",
    "    plt.subplot(nrows,ncols,i)\n",
    "    x_train[col].hist(bins = 50)\n",
    "    plt.xlabel(col)\n",
    "    i += 1\n",
    "plt.tight_layout()\n",
    "plt.show()"
   ]
  },
  {
   "cell_type": "code",
   "execution_count": null,
   "metadata": {},
   "outputs": [],
   "source": []
  },
  {
   "cell_type": "code",
   "execution_count": null,
   "metadata": {},
   "outputs": [],
   "source": []
  }
 ],
 "metadata": {
  "kernelspec": {
   "display_name": "Python 3",
   "language": "python",
   "name": "python3"
  },
  "language_info": {
   "codemirror_mode": {
    "name": "ipython",
    "version": 3
   },
   "file_extension": ".py",
   "mimetype": "text/x-python",
   "name": "python",
   "nbconvert_exporter": "python",
   "pygments_lexer": "ipython3",
   "version": "3.7.6"
  }
 },
 "nbformat": 4,
 "nbformat_minor": 4
}
